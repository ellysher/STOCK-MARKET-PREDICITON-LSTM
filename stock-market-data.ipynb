{
 "cells": [
  {
   "cell_type": "markdown",
   "id": "ec5b8318",
   "metadata": {
    "papermill": {
     "duration": 0.012583,
     "end_time": "2024-10-07T11:35:45.132036",
     "exception": false,
     "start_time": "2024-10-07T11:35:45.119453",
     "status": "completed"
    },
    "tags": []
   },
   "source": [
    "# **About Dataset**"
   ]
  },
  {
   "cell_type": "markdown",
   "id": "349b31d9",
   "metadata": {
    "papermill": {
     "duration": 0.011447,
     "end_time": "2024-10-07T11:35:45.155322",
     "exception": false,
     "start_time": "2024-10-07T11:35:45.143875",
     "status": "completed"
    },
    "tags": []
   },
   "source": [
    "This dataset contains historical daily prices for all tickers currently trading on NASDAQ. It contains prices for up to 01 of April 2020. If you need more up to date data, just fork and re-run data collection script also available from Kaggle.All that ticker data is then stored in either ETFs or stocks folder, depending on a type. Moreover, each filename is the corresponding ticker symbol. At last, symbols_valid_meta.csv contains some additional metadata for each ticker such as full name."
   ]
  },
  {
   "cell_type": "markdown",
   "id": "53e0cb0f",
   "metadata": {
    "papermill": {
     "duration": 0.01136,
     "end_time": "2024-10-07T11:35:45.179330",
     "exception": false,
     "start_time": "2024-10-07T11:35:45.167970",
     "status": "completed"
    },
    "tags": []
   },
   "source": [
    "# **Data Gathering**"
   ]
  },
  {
   "cell_type": "code",
   "execution_count": 1,
   "id": "24cda991",
   "metadata": {
    "execution": {
     "iopub.execute_input": "2024-10-07T11:35:45.205810Z",
     "iopub.status.busy": "2024-10-07T11:35:45.205327Z",
     "iopub.status.idle": "2024-10-07T11:36:02.914624Z",
     "shell.execute_reply": "2024-10-07T11:36:02.913013Z"
    },
    "papermill": {
     "duration": 17.725508,
     "end_time": "2024-10-07T11:36:02.917708",
     "exception": false,
     "start_time": "2024-10-07T11:35:45.192200",
     "status": "completed"
    },
    "tags": []
   },
   "outputs": [],
   "source": [
    "# Import Libraries\n",
    "import os\n",
    "import warnings\n",
    "warnings.filterwarnings('ignore')\n",
    "import math\n",
    "\n",
    "import pandas as pd\n",
    "import numpy as np\n",
    "import matplotlib.pyplot as plt\n",
    "import seaborn as sns\n",
    "\n",
    "from sklearn.preprocessing import MinMaxScaler\n",
    "from sklearn.metrics import mean_squared_error\n",
    "\n",
    "from tensorflow.keras.models import Sequential\n",
    "from tensorflow.keras.layers import Conv1D, MaxPooling1D, LSTM, Dense, Dropout\n",
    "from tensorflow.keras.optimizers import Adam\n",
    "from tensorflow.keras.callbacks import ReduceLROnPlateau"
   ]
  },
  {
   "cell_type": "code",
   "execution_count": 2,
   "id": "a01a7948",
   "metadata": {
    "_cell_guid": "b1076dfc-b9ad-4769-8c92-a6c4dae69d19",
    "_uuid": "8f2839f25d086af736a60e9eeb907d3b93b6e0e5",
    "execution": {
     "iopub.execute_input": "2024-10-07T11:36:02.945454Z",
     "iopub.status.busy": "2024-10-07T11:36:02.944534Z",
     "iopub.status.idle": "2024-10-07T11:36:02.950265Z",
     "shell.execute_reply": "2024-10-07T11:36:02.949134Z"
    },
    "papermill": {
     "duration": 0.022784,
     "end_time": "2024-10-07T11:36:02.952969",
     "exception": false,
     "start_time": "2024-10-07T11:36:02.930185",
     "status": "completed"
    },
    "tags": []
   },
   "outputs": [],
   "source": [
    "# Load Dataset\n",
    "base_df = '/kaggle/input/stock-market-dataset'"
   ]
  },
  {
   "cell_type": "code",
   "execution_count": 3,
   "id": "df0cda74",
   "metadata": {
    "execution": {
     "iopub.execute_input": "2024-10-07T11:36:02.978723Z",
     "iopub.status.busy": "2024-10-07T11:36:02.978303Z",
     "iopub.status.idle": "2024-10-07T11:36:02.983931Z",
     "shell.execute_reply": "2024-10-07T11:36:02.982740Z"
    },
    "papermill": {
     "duration": 0.021661,
     "end_time": "2024-10-07T11:36:02.986551",
     "exception": false,
     "start_time": "2024-10-07T11:36:02.964890",
     "status": "completed"
    },
    "tags": []
   },
   "outputs": [],
   "source": [
    "etf = os.path.join(base_df, \"etfs\")\n",
    "stocks = os.path.join(base_df, \"stocks\")"
   ]
  },
  {
   "cell_type": "code",
   "execution_count": 5,
   "id": "1a7fbe37",
   "metadata": {
    "execution": {
     "iopub.execute_input": "2024-10-07T11:36:03.013105Z",
     "iopub.status.busy": "2024-10-07T11:36:03.012640Z",
     "iopub.status.idle": "2024-10-07T11:36:03.070729Z",
     "shell.execute_reply": "2024-10-07T11:36:03.069507Z"
    },
    "papermill": {
     "duration": 0.074619,
     "end_time": "2024-10-07T11:36:03.073635",
     "exception": false,
     "start_time": "2024-10-07T11:36:02.999016",
     "status": "completed"
    },
    "tags": []
   },
   "outputs": [],
   "source": [
    "apple = pd.read_csv('stocks/AAPL.csv')"
   ]
  },
  {
   "cell_type": "code",
   "execution_count": 6,
   "id": "fc969b93",
   "metadata": {
    "execution": {
     "iopub.execute_input": "2024-10-07T11:36:03.100118Z",
     "iopub.status.busy": "2024-10-07T11:36:03.099675Z",
     "iopub.status.idle": "2024-10-07T11:36:03.128470Z",
     "shell.execute_reply": "2024-10-07T11:36:03.127084Z"
    },
    "papermill": {
     "duration": 0.045893,
     "end_time": "2024-10-07T11:36:03.131521",
     "exception": false,
     "start_time": "2024-10-07T11:36:03.085628",
     "status": "completed"
    },
    "tags": []
   },
   "outputs": [
    {
     "data": {
      "text/html": [
       "<div>\n",
       "<style scoped>\n",
       "    .dataframe tbody tr th:only-of-type {\n",
       "        vertical-align: middle;\n",
       "    }\n",
       "\n",
       "    .dataframe tbody tr th {\n",
       "        vertical-align: top;\n",
       "    }\n",
       "\n",
       "    .dataframe thead th {\n",
       "        text-align: right;\n",
       "    }\n",
       "</style>\n",
       "<table border=\"1\" class=\"dataframe\">\n",
       "  <thead>\n",
       "    <tr style=\"text-align: right;\">\n",
       "      <th></th>\n",
       "      <th>Date</th>\n",
       "      <th>Open</th>\n",
       "      <th>High</th>\n",
       "      <th>Low</th>\n",
       "      <th>Close</th>\n",
       "      <th>Adj Close</th>\n",
       "      <th>Volume</th>\n",
       "    </tr>\n",
       "  </thead>\n",
       "  <tbody>\n",
       "    <tr>\n",
       "      <th>0</th>\n",
       "      <td>1980-12-12</td>\n",
       "      <td>0.513393</td>\n",
       "      <td>0.515625</td>\n",
       "      <td>0.513393</td>\n",
       "      <td>0.513393</td>\n",
       "      <td>0.406782</td>\n",
       "      <td>117258400</td>\n",
       "    </tr>\n",
       "    <tr>\n",
       "      <th>1</th>\n",
       "      <td>1980-12-15</td>\n",
       "      <td>0.488839</td>\n",
       "      <td>0.488839</td>\n",
       "      <td>0.486607</td>\n",
       "      <td>0.486607</td>\n",
       "      <td>0.385558</td>\n",
       "      <td>43971200</td>\n",
       "    </tr>\n",
       "    <tr>\n",
       "      <th>2</th>\n",
       "      <td>1980-12-16</td>\n",
       "      <td>0.453125</td>\n",
       "      <td>0.453125</td>\n",
       "      <td>0.450893</td>\n",
       "      <td>0.450893</td>\n",
       "      <td>0.357260</td>\n",
       "      <td>26432000</td>\n",
       "    </tr>\n",
       "    <tr>\n",
       "      <th>3</th>\n",
       "      <td>1980-12-17</td>\n",
       "      <td>0.462054</td>\n",
       "      <td>0.464286</td>\n",
       "      <td>0.462054</td>\n",
       "      <td>0.462054</td>\n",
       "      <td>0.366103</td>\n",
       "      <td>21610400</td>\n",
       "    </tr>\n",
       "    <tr>\n",
       "      <th>4</th>\n",
       "      <td>1980-12-18</td>\n",
       "      <td>0.475446</td>\n",
       "      <td>0.477679</td>\n",
       "      <td>0.475446</td>\n",
       "      <td>0.475446</td>\n",
       "      <td>0.376715</td>\n",
       "      <td>18362400</td>\n",
       "    </tr>\n",
       "  </tbody>\n",
       "</table>\n",
       "</div>"
      ],
      "text/plain": [
       "         Date      Open      High       Low     Close  Adj Close     Volume\n",
       "0  1980-12-12  0.513393  0.515625  0.513393  0.513393   0.406782  117258400\n",
       "1  1980-12-15  0.488839  0.488839  0.486607  0.486607   0.385558   43971200\n",
       "2  1980-12-16  0.453125  0.453125  0.450893  0.450893   0.357260   26432000\n",
       "3  1980-12-17  0.462054  0.464286  0.462054  0.462054   0.366103   21610400\n",
       "4  1980-12-18  0.475446  0.477679  0.475446  0.475446   0.376715   18362400"
      ]
     },
     "execution_count": 6,
     "metadata": {},
     "output_type": "execute_result"
    }
   ],
   "source": [
    "apple.head()"
   ]
  },
  {
   "cell_type": "code",
   "execution_count": 7,
   "id": "375d60bc",
   "metadata": {
    "execution": {
     "iopub.execute_input": "2024-10-07T11:36:03.160042Z",
     "iopub.status.busy": "2024-10-07T11:36:03.159577Z",
     "iopub.status.idle": "2024-10-07T11:36:03.190428Z",
     "shell.execute_reply": "2024-10-07T11:36:03.189062Z"
    },
    "papermill": {
     "duration": 0.047807,
     "end_time": "2024-10-07T11:36:03.193185",
     "exception": false,
     "start_time": "2024-10-07T11:36:03.145378",
     "status": "completed"
    },
    "tags": []
   },
   "outputs": [
    {
     "name": "stdout",
     "output_type": "stream",
     "text": [
      "Overview of the features and their types:\n",
      "<class 'pandas.core.frame.DataFrame'>\n",
      "RangeIndex: 9909 entries, 0 to 9908\n",
      "Data columns (total 7 columns):\n",
      " #   Column     Non-Null Count  Dtype  \n",
      "---  ------     --------------  -----  \n",
      " 0   Date       9909 non-null   object \n",
      " 1   Open       9909 non-null   float64\n",
      " 2   High       9909 non-null   float64\n",
      " 3   Low        9909 non-null   float64\n",
      " 4   Close      9909 non-null   float64\n",
      " 5   Adj Close  9909 non-null   float64\n",
      " 6   Volume     9909 non-null   int64  \n",
      "dtypes: float64(5), int64(1), object(1)\n",
      "memory usage: 542.0+ KB\n"
     ]
    }
   ],
   "source": [
    "# Getting an overview of the features and their types in the Apple Stock data\n",
    "print(\"Overview of the features and their types:\")\n",
    "apple.info()"
   ]
  },
  {
   "cell_type": "markdown",
   "id": "b8864fa8",
   "metadata": {
    "papermill": {
     "duration": 0.011838,
     "end_time": "2024-10-07T11:36:03.217281",
     "exception": false,
     "start_time": "2024-10-07T11:36:03.205443",
     "status": "completed"
    },
    "tags": []
   },
   "source": [
    "> All features are Numerical, except Date is object"
   ]
  },
  {
   "cell_type": "code",
   "execution_count": 8,
   "id": "453e5898",
   "metadata": {
    "execution": {
     "iopub.execute_input": "2024-10-07T11:36:03.244865Z",
     "iopub.status.busy": "2024-10-07T11:36:03.244416Z",
     "iopub.status.idle": "2024-10-07T11:36:03.255848Z",
     "shell.execute_reply": "2024-10-07T11:36:03.254848Z"
    },
    "papermill": {
     "duration": 0.028406,
     "end_time": "2024-10-07T11:36:03.258429",
     "exception": false,
     "start_time": "2024-10-07T11:36:03.230023",
     "status": "completed"
    },
    "tags": []
   },
   "outputs": [
    {
     "data": {
      "text/plain": [
       "Date         0\n",
       "Open         0\n",
       "High         0\n",
       "Low          0\n",
       "Close        0\n",
       "Adj Close    0\n",
       "Volume       0\n",
       "dtype: int64"
      ]
     },
     "execution_count": 8,
     "metadata": {},
     "output_type": "execute_result"
    }
   ],
   "source": [
    "# Check for missing values\n",
    "apple.isnull().sum()"
   ]
  },
  {
   "cell_type": "code",
   "execution_count": 9,
   "id": "93ee029c",
   "metadata": {
    "execution": {
     "iopub.execute_input": "2024-10-07T11:36:03.285301Z",
     "iopub.status.busy": "2024-10-07T11:36:03.284814Z",
     "iopub.status.idle": "2024-10-07T11:36:03.304744Z",
     "shell.execute_reply": "2024-10-07T11:36:03.303164Z"
    },
    "papermill": {
     "duration": 0.036385,
     "end_time": "2024-10-07T11:36:03.307599",
     "exception": false,
     "start_time": "2024-10-07T11:36:03.271214",
     "status": "completed"
    },
    "tags": []
   },
   "outputs": [
    {
     "data": {
      "text/plain": [
       "Date\n",
       "1980-12-12    1\n",
       "2007-02-23    1\n",
       "2007-02-13    1\n",
       "2007-02-14    1\n",
       "2007-02-15    1\n",
       "             ..\n",
       "1994-01-07    1\n",
       "1994-01-10    1\n",
       "1994-01-11    1\n",
       "1994-01-12    1\n",
       "2020-04-01    1\n",
       "Name: count, Length: 9909, dtype: int64"
      ]
     },
     "execution_count": 9,
     "metadata": {},
     "output_type": "execute_result"
    }
   ],
   "source": [
    "apple['Date'].value_counts()"
   ]
  },
  {
   "cell_type": "code",
   "execution_count": 10,
   "id": "be6eccd4",
   "metadata": {
    "execution": {
     "iopub.execute_input": "2024-10-07T11:36:03.336043Z",
     "iopub.status.busy": "2024-10-07T11:36:03.335578Z",
     "iopub.status.idle": "2024-10-07T11:36:03.346719Z",
     "shell.execute_reply": "2024-10-07T11:36:03.345515Z"
    },
    "papermill": {
     "duration": 0.027865,
     "end_time": "2024-10-07T11:36:03.349337",
     "exception": false,
     "start_time": "2024-10-07T11:36:03.321472",
     "status": "completed"
    },
    "tags": []
   },
   "outputs": [
    {
     "data": {
      "text/plain": [
       "<bound method Series.unique of 0       1980-12-12\n",
       "1       1980-12-15\n",
       "2       1980-12-16\n",
       "3       1980-12-17\n",
       "4       1980-12-18\n",
       "           ...    \n",
       "9904    2020-03-26\n",
       "9905    2020-03-27\n",
       "9906    2020-03-30\n",
       "9907    2020-03-31\n",
       "9908    2020-04-01\n",
       "Name: Date, Length: 9909, dtype: object>"
      ]
     },
     "execution_count": 10,
     "metadata": {},
     "output_type": "execute_result"
    }
   ],
   "source": [
    "# Check for unique dates\n",
    "apple['Date'].unique"
   ]
  },
  {
   "cell_type": "code",
   "execution_count": 11,
   "id": "fe021ffe",
   "metadata": {
    "execution": {
     "iopub.execute_input": "2024-10-07T11:36:03.376886Z",
     "iopub.status.busy": "2024-10-07T11:36:03.376456Z",
     "iopub.status.idle": "2024-10-07T11:36:04.066240Z",
     "shell.execute_reply": "2024-10-07T11:36:04.065278Z"
    },
    "papermill": {
     "duration": 0.706701,
     "end_time": "2024-10-07T11:36:04.069119",
     "exception": false,
     "start_time": "2024-10-07T11:36:03.362418",
     "status": "completed"
    },
    "tags": []
   },
   "outputs": [
    {
     "data": {
      "image/png": "[encoded data removed]",
      "text/plain": [
       "<Figure size 1200x600 with 1 Axes>"
      ]
     },
     "metadata": {},
     "output_type": "display_data"
    }
   ],
   "source": [
    "apple['Date'] = pd.to_datetime(apple['Date'])\n",
    "\n",
    "# Plot the actual 'Close' prices over time\n",
    "plt.figure(figsize=(12, 6))\n",
    "plt.plot(apple['Date'], apple['Close'], label='Actual Stock Price')\n",
    "plt.title('Apple Stock Prices Over Time')\n",
    "plt.xlabel('Date')\n",
    "plt.ylabel('Close Price')\n",
    "plt.grid(True)\n",
    "plt.legend()\n",
    "plt.xticks(rotation=45)\n",
    "plt.tight_layout()\n",
    "plt.show()"
   ]
  },
  {
   "cell_type": "code",
   "execution_count": 13,
   "id": "dc548bbb",
   "metadata": {
    "execution": {
     "iopub.execute_input": "2024-10-07T11:36:04.098354Z",
     "iopub.status.busy": "2024-10-07T11:36:04.097884Z",
     "iopub.status.idle": "2024-10-07T11:36:04.129113Z",
     "shell.execute_reply": "2024-10-07T11:36:04.128036Z"
    },
    "papermill": {
     "duration": 0.048883,
     "end_time": "2024-10-07T11:36:04.131632",
     "exception": false,
     "start_time": "2024-10-07T11:36:04.082749",
     "status": "completed"
    },
    "tags": []
   },
   "outputs": [
    {
     "data": {
      "text/html": [
       "<div>\n",
       "<style scoped>\n",
       "    .dataframe tbody tr th:only-of-type {\n",
       "        vertical-align: middle;\n",
       "    }\n",
       "\n",
       "    .dataframe tbody tr th {\n",
       "        vertical-align: top;\n",
       "    }\n",
       "\n",
       "    .dataframe thead th {\n",
       "        text-align: right;\n",
       "    }\n",
       "</style>\n",
       "<table border=\"1\" class=\"dataframe\">\n",
       "  <thead>\n",
       "    <tr style=\"text-align: right;\">\n",
       "      <th></th>\n",
       "      <th>Date</th>\n",
       "      <th>Month</th>\n",
       "    </tr>\n",
       "  </thead>\n",
       "  <tbody>\n",
       "    <tr>\n",
       "      <th>0</th>\n",
       "      <td>1980-12-12</td>\n",
       "      <td>12</td>\n",
       "    </tr>\n",
       "    <tr>\n",
       "      <th>1</th>\n",
       "      <td>1980-12-15</td>\n",
       "      <td>12</td>\n",
       "    </tr>\n",
       "    <tr>\n",
       "      <th>2</th>\n",
       "      <td>1980-12-16</td>\n",
       "      <td>12</td>\n",
       "    </tr>\n",
       "    <tr>\n",
       "      <th>3</th>\n",
       "      <td>1980-12-17</td>\n",
       "      <td>12</td>\n",
       "    </tr>\n",
       "    <tr>\n",
       "      <th>4</th>\n",
       "      <td>1980-12-18</td>\n",
       "      <td>12</td>\n",
       "    </tr>\n",
       "  </tbody>\n",
       "</table>\n",
       "</div>"
      ],
      "text/plain": [
       "        Date  Month\n",
       "0 1980-12-12     12\n",
       "1 1980-12-15     12\n",
       "2 1980-12-16     12\n",
       "3 1980-12-17     12\n",
       "4 1980-12-18     12"
      ]
     },
     "execution_count": 13,
     "metadata": {},
     "output_type": "execute_result"
    }
   ],
   "source": [
    "apple['Date'] = pd.to_datetime(apple['Date'])\n",
    "\n",
    "# Extract the month from the 'Date' column\n",
    "apple['Month'] = apple['Date'].dt.month\n",
    "\n",
    "apple[['Date', 'Month']].head()"
   ]
  },
  {
   "cell_type": "code",
   "execution_count": 14,
   "id": "1e3a2dcf",
   "metadata": {
    "execution": {
     "iopub.execute_input": "2024-10-07T11:36:04.161473Z",
     "iopub.status.busy": "2024-10-07T11:36:04.161002Z",
     "iopub.status.idle": "2024-10-07T11:36:04.543874Z",
     "shell.execute_reply": "2024-10-07T11:36:04.542763Z"
    },
    "papermill": {
     "duration": 0.400972,
     "end_time": "2024-10-07T11:36:04.546440",
     "exception": false,
     "start_time": "2024-10-07T11:36:04.145468",
     "status": "completed"
    },
    "tags": []
   },
   "outputs": [
    {
     "data": {
      "image/png": "[encoded data removed]",
      "text/plain": [
       "<Figure size 640x480 with 1 Axes>"
      ]
     },
     "metadata": {},
     "output_type": "display_data"
    }
   ],
   "source": [
    "sns.countplot(x='Month', data=apple, palette='coolwarm')\n",
    "\n",
    "plt.title('Distribution of Stock Data by Month')\n",
    "plt.xlabel('Month')\n",
    "plt.ylabel('Frequency')\n",
    "plt.xticks(rotation=45)\n",
    "\n",
    "# Show the plot\n",
    "plt.tight_layout()\n",
    "plt.show()"
   ]
  },
  {
   "cell_type": "markdown",
   "id": "e5e8d67b",
   "metadata": {
    "papermill": {
     "duration": 0.014275,
     "end_time": "2024-10-07T11:36:04.575169",
     "exception": false,
     "start_time": "2024-10-07T11:36:04.560894",
     "status": "completed"
    },
    "tags": []
   },
   "source": [
    "# **Feature Engineering**"
   ]
  },
  {
   "cell_type": "code",
   "execution_count": 15,
   "id": "afa7d8a5",
   "metadata": {
    "execution": {
     "iopub.execute_input": "2024-10-07T11:36:04.606041Z",
     "iopub.status.busy": "2024-10-07T11:36:04.605559Z",
     "iopub.status.idle": "2024-10-07T11:36:04.620907Z",
     "shell.execute_reply": "2024-10-07T11:36:04.619735Z"
    },
    "papermill": {
     "duration": 0.034388,
     "end_time": "2024-10-07T11:36:04.623950",
     "exception": false,
     "start_time": "2024-10-07T11:36:04.589562",
     "status": "completed"
    },
    "tags": []
   },
   "outputs": [],
   "source": [
    "# Feature engineering: Adding moving averages and price changes\n",
    "apple['MA50'] = apple['Close'].rolling(50).mean()\n",
    "apple['MA200'] = apple['Close'].rolling(200).mean()\n",
    "apple['Previous day close price'] = apple['Close'].shift(1)\n",
    "apple['Change in price'] = apple['Close'] - apple['Previous day close price']\n",
    "apple['Percent change in price'] = apple['Close'].pct_change()"
   ]
  },
  {
   "cell_type": "code",
   "execution_count": 16,
   "id": "b0b9090e",
   "metadata": {
    "execution": {
     "iopub.execute_input": "2024-10-07T11:36:04.654828Z",
     "iopub.status.busy": "2024-10-07T11:36:04.653774Z",
     "iopub.status.idle": "2024-10-07T11:36:04.664276Z",
     "shell.execute_reply": "2024-10-07T11:36:04.663047Z"
    },
    "papermill": {
     "duration": 0.028466,
     "end_time": "2024-10-07T11:36:04.666824",
     "exception": false,
     "start_time": "2024-10-07T11:36:04.638358",
     "status": "completed"
    },
    "tags": []
   },
   "outputs": [
    {
     "data": {
      "text/plain": [
       "Date                          0\n",
       "Open                          0\n",
       "High                          0\n",
       "Low                           0\n",
       "Close                         0\n",
       "Adj Close                     0\n",
       "Volume                        0\n",
       "Month                         0\n",
       "MA50                         49\n",
       "MA200                       199\n",
       "Previous day close price      1\n",
       "Change in price               1\n",
       "Percent change in price       1\n",
       "dtype: int64"
      ]
     },
     "execution_count": 16,
     "metadata": {},
     "output_type": "execute_result"
    }
   ],
   "source": [
    "# Check for missing values\n",
    "apple.isnull().sum()"
   ]
  },
  {
   "cell_type": "code",
   "execution_count": 17,
   "id": "51738a69",
   "metadata": {
    "execution": {
     "iopub.execute_input": "2024-10-07T11:36:04.697230Z",
     "iopub.status.busy": "2024-10-07T11:36:04.696777Z",
     "iopub.status.idle": "2024-10-07T11:36:04.704632Z",
     "shell.execute_reply": "2024-10-07T11:36:04.703682Z"
    },
    "papermill": {
     "duration": 0.025932,
     "end_time": "2024-10-07T11:36:04.707161",
     "exception": false,
     "start_time": "2024-10-07T11:36:04.681229",
     "status": "completed"
    },
    "tags": []
   },
   "outputs": [],
   "source": [
    "apple.fillna(method='bfill', inplace=True)"
   ]
  },
  {
   "cell_type": "code",
   "execution_count": 18,
   "id": "0c5d2148",
   "metadata": {
    "execution": {
     "iopub.execute_input": "2024-10-07T11:36:04.737662Z",
     "iopub.status.busy": "2024-10-07T11:36:04.737229Z",
     "iopub.status.idle": "2024-10-07T11:36:04.757222Z",
     "shell.execute_reply": "2024-10-07T11:36:04.756072Z"
    },
    "papermill": {
     "duration": 0.038585,
     "end_time": "2024-10-07T11:36:04.760012",
     "exception": false,
     "start_time": "2024-10-07T11:36:04.721427",
     "status": "completed"
    },
    "tags": []
   },
   "outputs": [
    {
     "data": {
      "text/html": [
       "<div>\n",
       "<style scoped>\n",
       "    .dataframe tbody tr th:only-of-type {\n",
       "        vertical-align: middle;\n",
       "    }\n",
       "\n",
       "    .dataframe tbody tr th {\n",
       "        vertical-align: top;\n",
       "    }\n",
       "\n",
       "    .dataframe thead th {\n",
       "        text-align: right;\n",
       "    }\n",
       "</style>\n",
       "<table border=\"1\" class=\"dataframe\">\n",
       "  <thead>\n",
       "    <tr style=\"text-align: right;\">\n",
       "      <th></th>\n",
       "      <th>Date</th>\n",
       "      <th>Open</th>\n",
       "      <th>High</th>\n",
       "      <th>Low</th>\n",
       "      <th>Close</th>\n",
       "      <th>Adj Close</th>\n",
       "      <th>Volume</th>\n",
       "      <th>Month</th>\n",
       "      <th>MA50</th>\n",
       "      <th>MA200</th>\n",
       "      <th>Previous day close price</th>\n",
       "      <th>Change in price</th>\n",
       "      <th>Percent change in price</th>\n",
       "    </tr>\n",
       "  </thead>\n",
       "  <tbody>\n",
       "    <tr>\n",
       "      <th>0</th>\n",
       "      <td>1980-12-12</td>\n",
       "      <td>0.513393</td>\n",
       "      <td>0.515625</td>\n",
       "      <td>0.513393</td>\n",
       "      <td>0.513393</td>\n",
       "      <td>0.406782</td>\n",
       "      <td>117258400</td>\n",
       "      <td>12</td>\n",
       "      <td>0.530312</td>\n",
       "      <td>0.471596</td>\n",
       "      <td>0.513393</td>\n",
       "      <td>-0.026786</td>\n",
       "      <td>-0.052174</td>\n",
       "    </tr>\n",
       "    <tr>\n",
       "      <th>1</th>\n",
       "      <td>1980-12-15</td>\n",
       "      <td>0.488839</td>\n",
       "      <td>0.488839</td>\n",
       "      <td>0.486607</td>\n",
       "      <td>0.486607</td>\n",
       "      <td>0.385558</td>\n",
       "      <td>43971200</td>\n",
       "      <td>12</td>\n",
       "      <td>0.530312</td>\n",
       "      <td>0.471596</td>\n",
       "      <td>0.513393</td>\n",
       "      <td>-0.026786</td>\n",
       "      <td>-0.052174</td>\n",
       "    </tr>\n",
       "    <tr>\n",
       "      <th>2</th>\n",
       "      <td>1980-12-16</td>\n",
       "      <td>0.453125</td>\n",
       "      <td>0.453125</td>\n",
       "      <td>0.450893</td>\n",
       "      <td>0.450893</td>\n",
       "      <td>0.357260</td>\n",
       "      <td>26432000</td>\n",
       "      <td>12</td>\n",
       "      <td>0.530312</td>\n",
       "      <td>0.471596</td>\n",
       "      <td>0.486607</td>\n",
       "      <td>-0.035714</td>\n",
       "      <td>-0.073394</td>\n",
       "    </tr>\n",
       "    <tr>\n",
       "      <th>3</th>\n",
       "      <td>1980-12-17</td>\n",
       "      <td>0.462054</td>\n",
       "      <td>0.464286</td>\n",
       "      <td>0.462054</td>\n",
       "      <td>0.462054</td>\n",
       "      <td>0.366103</td>\n",
       "      <td>21610400</td>\n",
       "      <td>12</td>\n",
       "      <td>0.530312</td>\n",
       "      <td>0.471596</td>\n",
       "      <td>0.450893</td>\n",
       "      <td>0.011161</td>\n",
       "      <td>0.024752</td>\n",
       "    </tr>\n",
       "    <tr>\n",
       "      <th>4</th>\n",
       "      <td>1980-12-18</td>\n",
       "      <td>0.475446</td>\n",
       "      <td>0.477679</td>\n",
       "      <td>0.475446</td>\n",
       "      <td>0.475446</td>\n",
       "      <td>0.376715</td>\n",
       "      <td>18362400</td>\n",
       "      <td>12</td>\n",
       "      <td>0.530312</td>\n",
       "      <td>0.471596</td>\n",
       "      <td>0.462054</td>\n",
       "      <td>0.013393</td>\n",
       "      <td>0.028986</td>\n",
       "    </tr>\n",
       "  </tbody>\n",
       "</table>\n",
       "</div>"
      ],
      "text/plain": [
       "        Date      Open      High       Low     Close  Adj Close     Volume  \\\n",
       "0 1980-12-12  0.513393  0.515625  0.513393  0.513393   0.406782  117258400   \n",
       "1 1980-12-15  0.488839  0.488839  0.486607  0.486607   0.385558   43971200   \n",
       "2 1980-12-16  0.453125  0.453125  0.450893  0.450893   0.357260   26432000   \n",
       "3 1980-12-17  0.462054  0.464286  0.462054  0.462054   0.366103   21610400   \n",
       "4 1980-12-18  0.475446  0.477679  0.475446  0.475446   0.376715   18362400   \n",
       "\n",
       "   Month      MA50     MA200  Previous day close price  Change in price  \\\n",
       "0     12  0.530312  0.471596                  0.513393        -0.026786   \n",
       "1     12  0.530312  0.471596                  0.513393        -0.026786   \n",
       "2     12  0.530312  0.471596                  0.486607        -0.035714   \n",
       "3     12  0.530312  0.471596                  0.450893         0.011161   \n",
       "4     12  0.530312  0.471596                  0.462054         0.013393   \n",
       "\n",
       "   Percent change in price  \n",
       "0                -0.052174  \n",
       "1                -0.052174  \n",
       "2                -0.073394  \n",
       "3                 0.024752  \n",
       "4                 0.028986  "
      ]
     },
     "execution_count": 18,
     "metadata": {},
     "output_type": "execute_result"
    }
   ],
   "source": [
    "apple.head()"
   ]
  },
  {
   "cell_type": "markdown",
   "id": "9f162181",
   "metadata": {
    "papermill": {
     "duration": 0.014307,
     "end_time": "2024-10-07T11:36:04.789336",
     "exception": false,
     "start_time": "2024-10-07T11:36:04.775029",
     "status": "completed"
    },
    "tags": []
   },
   "source": [
    "# **Data Preprocessing**"
   ]
  },
  {
   "cell_type": "code",
   "execution_count": 19,
   "id": "56326efd",
   "metadata": {
    "execution": {
     "iopub.execute_input": "2024-10-07T11:36:04.820210Z",
     "iopub.status.busy": "2024-10-07T11:36:04.819770Z",
     "iopub.status.idle": "2024-10-07T11:36:04.830997Z",
     "shell.execute_reply": "2024-10-07T11:36:04.829906Z"
    },
    "papermill": {
     "duration": 0.029586,
     "end_time": "2024-10-07T11:36:04.833508",
     "exception": false,
     "start_time": "2024-10-07T11:36:04.803922",
     "status": "completed"
    },
    "tags": []
   },
   "outputs": [],
   "source": [
    "scaler = MinMaxScaler()\n",
    "scaled_data = scaler.fit_transform(apple[['Close']])"
   ]
  },
  {
   "cell_type": "code",
   "execution_count": 20,
   "id": "f8cf0b40",
   "metadata": {
    "execution": {
     "iopub.execute_input": "2024-10-07T11:36:04.864436Z",
     "iopub.status.busy": "2024-10-07T11:36:04.864003Z",
     "iopub.status.idle": "2024-10-07T11:36:04.870405Z",
     "shell.execute_reply": "2024-10-07T11:36:04.869334Z"
    },
    "papermill": {
     "duration": 0.024556,
     "end_time": "2024-10-07T11:36:04.872694",
     "exception": false,
     "start_time": "2024-10-07T11:36:04.848138",
     "status": "completed"
    },
    "tags": []
   },
   "outputs": [],
   "source": [
    "# Function to create sequences (for single column data)\n",
    "def create_sequences(data, seq_length):\n",
    "    X = []\n",
    "    y = []\n",
    "    for i in range(seq_length, len(data)):\n",
    "        X.append(data[i-seq_length:i, 0])\n",
    "        y.append(data[i, 0])\n",
    "    return np.array(X), np.array(y)"
   ]
  },
  {
   "cell_type": "code",
   "execution_count": 21,
   "id": "50292c99",
   "metadata": {
    "execution": {
     "iopub.execute_input": "2024-10-07T11:36:04.903680Z",
     "iopub.status.busy": "2024-10-07T11:36:04.903258Z",
     "iopub.status.idle": "2024-10-07T11:36:04.932018Z",
     "shell.execute_reply": "2024-10-07T11:36:04.930963Z"
    },
    "papermill": {
     "duration": 0.047414,
     "end_time": "2024-10-07T11:36:04.934765",
     "exception": false,
     "start_time": "2024-10-07T11:36:04.887351",
     "status": "completed"
    },
    "tags": []
   },
   "outputs": [],
   "source": [
    "seq_length = 60  \n",
    "X, y = create_sequences(scaled_data, seq_length)\n",
    "\n",
    "X = X.reshape((X.shape[0], X.shape[1], 1))"
   ]
  },
  {
   "cell_type": "code",
   "execution_count": 20,
   "id": "d69f7dd1",
   "metadata": {
    "execution": {
     "iopub.execute_input": "2024-10-07T11:36:04.966391Z",
     "iopub.status.busy": "2024-10-07T11:36:04.965921Z",
     "iopub.status.idle": "2024-10-07T11:36:04.971199Z",
     "shell.execute_reply": "2024-10-07T11:36:04.969955Z"
    },
    "papermill": {
     "duration": 0.02419,
     "end_time": "2024-10-07T11:36:04.973795",
     "exception": false,
     "start_time": "2024-10-07T11:36:04.949605",
     "status": "completed"
    },
    "tags": []
   },
   "outputs": [],
   "source": [
    "# Reshape X for CNN and LSTM input\n",
    "#X = X.reshape((X.shape[0], X.shape[1], X.shape[2]))"
   ]
  },
  {
   "cell_type": "code",
   "execution_count": 22,
   "id": "e0a220ba",
   "metadata": {
    "execution": {
     "iopub.execute_input": "2024-10-07T11:36:05.005852Z",
     "iopub.status.busy": "2024-10-07T11:36:05.005448Z",
     "iopub.status.idle": "2024-10-07T11:36:05.011443Z",
     "shell.execute_reply": "2024-10-07T11:36:05.010210Z"
    },
    "papermill": {
     "duration": 0.025041,
     "end_time": "2024-10-07T11:36:05.013937",
     "exception": false,
     "start_time": "2024-10-07T11:36:04.988896",
     "status": "completed"
    },
    "tags": []
   },
   "outputs": [],
   "source": [
    "# Split data to train and test\n",
    "train_size = int(len(X) * 0.8)\n",
    "X_train, X_test = X[:train_size], X[train_size:]\n",
    "y_train, y_test = y[:train_size], y[train_size:]"
   ]
  },
  {
   "cell_type": "markdown",
   "id": "900bae42",
   "metadata": {
    "papermill": {
     "duration": 0.019514,
     "end_time": "2024-10-07T11:36:05.048554",
     "exception": false,
     "start_time": "2024-10-07T11:36:05.029040",
     "status": "completed"
    },
    "tags": []
   },
   "source": [
    "# **CNN-LSTM Model**"
   ]
  },
  {
   "cell_type": "code",
   "execution_count": 23,
   "id": "3ee732de",
   "metadata": {
    "execution": {
     "iopub.execute_input": "2024-10-07T11:36:05.080174Z",
     "iopub.status.busy": "2024-10-07T11:36:05.079727Z",
     "iopub.status.idle": "2024-10-07T11:44:08.126434Z",
     "shell.execute_reply": "2024-10-07T11:44:08.125207Z"
    },
    "papermill": {
     "duration": 483.06552,
     "end_time": "2024-10-07T11:44:08.129151",
     "exception": false,
     "start_time": "2024-10-07T11:36:05.063631",
     "status": "completed"
    },
    "tags": []
   },
   "outputs": [
    {
     "name": "stdout",
     "output_type": "stream",
     "text": [
      "Epoch 1/20\n",
      "\u001b[1m247/247\u001b[0m \u001b[32m━━━━━━━━━━━━━━━━━━━━\u001b[0m\u001b[37m\u001b[0m \u001b[1m23s\u001b[0m 73ms/step - loss: 1.9345e-04 - val_loss: 6.9446e-04 - learning_rate: 0.0010\n",
      "Epoch 2/20\n",
      "\u001b[1m247/247\u001b[0m \u001b[32m━━━━━━━━━━━━━━━━━━━━\u001b[0m\u001b[37m\u001b[0m \u001b[1m15s\u001b[0m 62ms/step - loss: 3.8234e-05 - val_loss: 9.8809e-04 - learning_rate: 0.0010\n",
      "Epoch 3/20\n",
      "\u001b[1m247/247\u001b[0m \u001b[32m━━━━━━━━━━━━━━━━━━━━\u001b[0m\u001b[37m\u001b[0m \u001b[1m15s\u001b[0m 61ms/step - loss: 6.3887e-05 - val_loss: 9.6777e-04 - learning_rate: 0.0010\n",
      "Epoch 4/20\n",
      "\u001b[1m247/247\u001b[0m \u001b[32m━━━━━━━━━━━━━━━━━━━━\u001b[0m\u001b[37m\u001b[0m \u001b[1m18s\u001b[0m 73ms/step - loss: 3.7889e-05 - val_loss: 0.0010 - learning_rate: 0.0010\n",
      "Epoch 5/20\n",
      "\u001b[1m247/247\u001b[0m \u001b[32m━━━━━━━━━━━━━━━━━━━━\u001b[0m\u001b[37m\u001b[0m \u001b[1m16s\u001b[0m 64ms/step - loss: 4.1000e-05 - val_loss: 0.0022 - learning_rate: 0.0010\n",
      "Epoch 6/20\n",
      "\u001b[1m247/247\u001b[0m \u001b[32m━━━━━━━━━━━━━━━━━━━━\u001b[0m\u001b[37m\u001b[0m \u001b[1m18s\u001b[0m 71ms/step - loss: 3.7352e-05 - val_loss: 4.0453e-04 - learning_rate: 0.0010\n",
      "Epoch 7/20\n",
      "\u001b[1m247/247\u001b[0m \u001b[32m━━━━━━━━━━━━━━━━━━━━\u001b[0m\u001b[37m\u001b[0m \u001b[1m16s\u001b[0m 65ms/step - loss: 3.9623e-05 - val_loss: 0.0034 - learning_rate: 0.0010\n",
      "Epoch 8/20\n",
      "\u001b[1m247/247\u001b[0m \u001b[32m━━━━━━━━━━━━━━━━━━━━\u001b[0m\u001b[37m\u001b[0m \u001b[1m17s\u001b[0m 68ms/step - loss: 3.4141e-05 - val_loss: 8.3492e-04 - learning_rate: 0.0010\n",
      "Epoch 9/20\n",
      "\u001b[1m247/247\u001b[0m \u001b[32m━━━━━━━━━━━━━━━━━━━━\u001b[0m\u001b[37m\u001b[0m \u001b[1m14s\u001b[0m 55ms/step - loss: 3.6786e-05 - val_loss: 9.5511e-04 - learning_rate: 0.0010\n",
      "Epoch 10/20\n",
      "\u001b[1m247/247\u001b[0m \u001b[32m━━━━━━━━━━━━━━━━━━━━\u001b[0m\u001b[37m\u001b[0m \u001b[1m15s\u001b[0m 62ms/step - loss: 3.2999e-05 - val_loss: 7.5312e-04 - learning_rate: 0.0010\n",
      "Epoch 11/20\n",
      "\u001b[1m247/247\u001b[0m \u001b[32m━━━━━━━━━━━━━━━━━━━━\u001b[0m\u001b[37m\u001b[0m \u001b[1m16s\u001b[0m 62ms/step - loss: 3.1671e-05 - val_loss: 4.5028e-04 - learning_rate: 0.0010\n",
      "Epoch 12/20\n",
      "\u001b[1m247/247\u001b[0m \u001b[32m━━━━━━━━━━━━━━━━━━━━\u001b[0m\u001b[37m\u001b[0m \u001b[1m14s\u001b[0m 57ms/step - loss: 2.2875e-05 - val_loss: 0.0011 - learning_rate: 5.0000e-04\n",
      "Epoch 13/20\n",
      "\u001b[1m247/247\u001b[0m \u001b[32m━━━━━━━━━━━━━━━━━━━━\u001b[0m\u001b[37m\u001b[0m \u001b[1m16s\u001b[0m 62ms/step - loss: 2.4265e-05 - val_loss: 4.9986e-04 - learning_rate: 5.0000e-04\n",
      "Epoch 14/20\n",
      "\u001b[1m247/247\u001b[0m \u001b[32m━━━━━━━━━━━━━━━━━━━━\u001b[0m\u001b[37m\u001b[0m \u001b[1m18s\u001b[0m 74ms/step - loss: 2.8091e-05 - val_loss: 2.0247e-04 - learning_rate: 5.0000e-04\n",
      "Epoch 15/20\n",
      "\u001b[1m247/247\u001b[0m \u001b[32m━━━━━━━━━━━━━━━━━━━━\u001b[0m\u001b[37m\u001b[0m \u001b[1m16s\u001b[0m 64ms/step - loss: 2.7391e-05 - val_loss: 2.2920e-04 - learning_rate: 5.0000e-04\n",
      "Epoch 16/20\n",
      "\u001b[1m247/247\u001b[0m \u001b[32m━━━━━━━━━━━━━━━━━━━━\u001b[0m\u001b[37m\u001b[0m \u001b[1m14s\u001b[0m 56ms/step - loss: 2.6299e-05 - val_loss: 0.0014 - learning_rate: 5.0000e-04\n",
      "Epoch 17/20\n",
      "\u001b[1m247/247\u001b[0m \u001b[32m━━━━━━━━━━━━━━━━━━━━\u001b[0m\u001b[37m\u001b[0m \u001b[1m16s\u001b[0m 65ms/step - loss: 2.4588e-05 - val_loss: 4.2201e-04 - learning_rate: 5.0000e-04\n",
      "Epoch 18/20\n",
      "\u001b[1m247/247\u001b[0m \u001b[32m━━━━━━━━━━━━━━━━━━━━\u001b[0m\u001b[37m\u001b[0m \u001b[1m15s\u001b[0m 62ms/step - loss: 2.4984e-05 - val_loss: 4.4637e-04 - learning_rate: 5.0000e-04\n",
      "Epoch 19/20\n",
      "\u001b[1m247/247\u001b[0m \u001b[32m━━━━━━━━━━━━━━━━━━━━\u001b[0m\u001b[37m\u001b[0m \u001b[1m15s\u001b[0m 59ms/step - loss: 2.5058e-05 - val_loss: 3.6093e-04 - learning_rate: 5.0000e-04\n",
      "Epoch 20/20\n",
      "\u001b[1m247/247\u001b[0m \u001b[32m━━━━━━━━━━━━━━━━━━━━\u001b[0m\u001b[37m\u001b[0m \u001b[1m17s\u001b[0m 67ms/step - loss: 2.2636e-05 - val_loss: 3.1254e-04 - learning_rate: 2.5000e-04\n"
     ]
    }
   ],
   "source": [
    "model = Sequential([\n",
    "    LSTM(100, return_sequences=True, input_shape=(X_train.shape[1], X_train.shape[2])),\n",
    "    Dropout(0.4),\n",
    "    LSTM(100),\n",
    "    Dropout(0.4),\n",
    "    Dense(1)\n",
    "])\n",
    "model.compile(optimizer='adam', loss='mean_squared_error')\n",
    "reduce_lr = ReduceLROnPlateau(monitor='val_loss', factor=0.5, patience=5)\n",
    "history = model.fit(X_train, y_train, epochs=20, batch_size=32, \n",
    "                    validation_data=(X_test, y_test), callbacks=[reduce_lr])"
   ]
  },
  {
   "cell_type": "code",
   "execution_count": 24,
   "id": "735a8262",
   "metadata": {
    "execution": {
     "iopub.execute_input": "2024-10-07T11:44:09.164908Z",
     "iopub.status.busy": "2024-10-07T11:44:09.164459Z",
     "iopub.status.idle": "2024-10-07T11:44:09.514578Z",
     "shell.execute_reply": "2024-10-07T11:44:09.513235Z"
    },
    "papermill": {
     "duration": 0.874221,
     "end_time": "2024-10-07T11:44:09.517158",
     "exception": false,
     "start_time": "2024-10-07T11:44:08.642937",
     "status": "completed"
    },
    "tags": []
   },
   "outputs": [
    {
     "data": {
      "image/png": "[encoded data removed]",
      "text/plain": [
       "<Figure size 640x480 with 1 Axes>"
      ]
     },
     "metadata": {},
     "output_type": "display_data"
    }
   ],
   "source": [
    "# Visualize the training and validation loss\n",
    "plt.plot(history.history['loss'], label='Training Loss')\n",
    "plt.plot(history.history['val_loss'], label='Validation Loss')\n",
    "plt.title('Model Loss')\n",
    "plt.xlabel('Epochs')\n",
    "plt.ylabel('Loss')\n",
    "plt.legend()\n",
    "plt.show()"
   ]
  },
  {
   "cell_type": "code",
   "execution_count": 25,
   "id": "41dd39d3",
   "metadata": {
    "execution": {
     "iopub.execute_input": "2024-10-07T11:44:10.619224Z",
     "iopub.status.busy": "2024-10-07T11:44:10.618746Z",
     "iopub.status.idle": "2024-10-07T11:44:13.321411Z",
     "shell.execute_reply": "2024-10-07T11:44:13.320115Z"
    },
    "papermill": {
     "duration": 3.241339,
     "end_time": "2024-10-07T11:44:13.324554",
     "exception": false,
     "start_time": "2024-10-07T11:44:10.083215",
     "status": "completed"
    },
    "tags": []
   },
   "outputs": [
    {
     "name": "stdout",
     "output_type": "stream",
     "text": [
      "\u001b[1m62/62\u001b[0m \u001b[32m━━━━━━━━━━━━━━━━━━━━\u001b[0m\u001b[37m\u001b[0m \u001b[1m2s\u001b[0m 27ms/step\n"
     ]
    }
   ],
   "source": [
    "# Make predictions on the test set\n",
    "predicted_stock_price = model.predict(X_test)"
   ]
  },
  {
   "cell_type": "code",
   "execution_count": 26,
   "id": "e61407d7",
   "metadata": {
    "execution": {
     "iopub.execute_input": "2024-10-07T11:44:14.335718Z",
     "iopub.status.busy": "2024-10-07T11:44:14.335282Z",
     "iopub.status.idle": "2024-10-07T11:44:17.298089Z",
     "shell.execute_reply": "2024-10-07T11:44:17.296622Z"
    },
    "papermill": {
     "duration": 3.469978,
     "end_time": "2024-10-07T11:44:17.300711",
     "exception": false,
     "start_time": "2024-10-07T11:44:13.830733",
     "status": "completed"
    },
    "tags": []
   },
   "outputs": [
    {
     "name": "stdout",
     "output_type": "stream",
     "text": [
      "\u001b[1m62/62\u001b[0m \u001b[32m━━━━━━━━━━━━━━━━━━━━\u001b[0m\u001b[37m\u001b[0m \u001b[1m2s\u001b[0m 26ms/step\n"
     ]
    },
    {
     "data": {
      "image/png": "[encoded data removed]",
      "text/plain": [
       "<Figure size 640x480 with 1 Axes>"
      ]
     },
     "metadata": {},
     "output_type": "display_data"
    }
   ],
   "source": [
    "# Make predictions\n",
    "predicted_stock_price = model.predict(X_test)\n",
    "\n",
    "predicted_stock_price = scaler.inverse_transform(\n",
    "    np.concatenate([predicted_stock_price, np.zeros((predicted_stock_price.shape[0], len(scaled_data)-1))], axis=1)\n",
    ")[:, 0]\n",
    "\n",
    "plt.plot(y_test, color='blue', label='Actual Stock Price')\n",
    "plt.plot(predicted_stock_price, color='red', label='Predicted Stock Price')\n",
    "plt.title('Apple Stock Price Prediction')\n",
    "plt.xlabel('Time')\n",
    "plt.ylabel('Stock Price')\n",
    "plt.legend()\n",
    "plt.show()"
   ]
  },
  {
   "cell_type": "code",
   "execution_count": 27,
   "id": "b36aafd4",
   "metadata": {
    "execution": {
     "iopub.execute_input": "2024-10-07T11:44:18.383786Z",
     "iopub.status.busy": "2024-10-07T11:44:18.383384Z",
     "iopub.status.idle": "2024-10-07T11:44:28.476347Z",
     "shell.execute_reply": "2024-10-07T11:44:28.474964Z"
    },
    "papermill": {
     "duration": 10.671194,
     "end_time": "2024-10-07T11:44:28.479522",
     "exception": false,
     "start_time": "2024-10-07T11:44:17.808328",
     "status": "completed"
    },
    "tags": []
   },
   "outputs": [
    {
     "name": "stdout",
     "output_type": "stream",
     "text": [
      "\u001b[1m247/247\u001b[0m \u001b[32m━━━━━━━━━━━━━━━━━━━━\u001b[0m\u001b[37m\u001b[0m \u001b[1m6s\u001b[0m 22ms/step\n",
      "\u001b[1m62/62\u001b[0m \u001b[32m━━━━━━━━━━━━━━━━━━━━\u001b[0m\u001b[37m\u001b[0m \u001b[1m2s\u001b[0m 23ms/step\n"
     ]
    }
   ],
   "source": [
    "train_predict=model.predict(X_train)\n",
    "test_predict=model.predict(X_test)"
   ]
  },
  {
   "cell_type": "code",
   "execution_count": 28,
   "id": "1feb4e55",
   "metadata": {
    "execution": {
     "iopub.execute_input": "2024-10-07T11:44:29.519233Z",
     "iopub.status.busy": "2024-10-07T11:44:29.518687Z",
     "iopub.status.idle": "2024-10-07T11:44:29.525467Z",
     "shell.execute_reply": "2024-10-07T11:44:29.524290Z"
    },
    "papermill": {
     "duration": 0.525536,
     "end_time": "2024-10-07T11:44:29.527871",
     "exception": false,
     "start_time": "2024-10-07T11:44:29.002335",
     "status": "completed"
    },
    "tags": []
   },
   "outputs": [],
   "source": [
    "train_predict=scaler.inverse_transform(train_predict)\n",
    "test_predict=scaler.inverse_transform(test_predict)"
   ]
  },
  {
   "cell_type": "code",
   "execution_count": 29,
   "id": "9b8ccf4b",
   "metadata": {
    "execution": {
     "iopub.execute_input": "2024-10-07T11:44:30.590441Z",
     "iopub.status.busy": "2024-10-07T11:44:30.590024Z",
     "iopub.status.idle": "2024-10-07T11:44:30.598383Z",
     "shell.execute_reply": "2024-10-07T11:44:30.596996Z"
    },
    "papermill": {
     "duration": 0.550282,
     "end_time": "2024-10-07T11:44:30.601064",
     "exception": false,
     "start_time": "2024-10-07T11:44:30.050782",
     "status": "completed"
    },
    "tags": []
   },
   "outputs": [
    {
     "name": "stdout",
     "output_type": "stream",
     "text": [
      "15.967229948748297\n",
      "142.49131631238163\n"
     ]
    }
   ],
   "source": [
    "# Calculate train data RMSE\n",
    "print(math.sqrt(mean_squared_error(y_train,train_predict)))\n",
    "# Calculate test data RMSE\n",
    "print(math.sqrt(mean_squared_error(y_test,test_predict)))"
   ]
  },
  {
   "cell_type": "code",
   "execution_count": 29,
   "id": "90efed93",
   "metadata": {
    "execution": {
     "iopub.execute_input": "2024-10-07T11:44:31.728152Z",
     "iopub.status.busy": "2024-10-07T11:44:31.727273Z",
     "iopub.status.idle": "2024-10-07T11:44:31.737335Z",
     "shell.execute_reply": "2024-10-07T11:44:31.736060Z"
    },
    "papermill": {
     "duration": 0.561539,
     "end_time": "2024-10-07T11:44:31.739843",
     "exception": false,
     "start_time": "2024-10-07T11:44:31.178304",
     "status": "completed"
    },
    "tags": []
   },
   "outputs": [
    {
     "data": {
      "text/plain": [
       "'original_scaled_data = scaler.inverse_transform(scaled_data)\\n\\nplt.figure(figsize=(15, 6))\\n\\nif original_scaled_data.shape[1] == 1:\\n    plt.plot(original_scaled_data[:, 0], color=\\'black\\', label=f\"Actual price\")\\nelse:\\n    plt.plot(original_scaled_data[:, 3], color=\\'black\\', label=f\"Actual price\")\\n\\nplt.plot(trainPredictPlot, color=\\'red\\', label=f\"Predicted apple price (train set)\")\\nplt.plot(testPredictPlot, color=\\'blue\\', label=f\"Predicted apple price (test set)\")\\n\\nplt.title(\"apple Share Price\")\\nplt.xlabel(\"Time\")\\nplt.ylabel(\"apple Share Price\")\\nplt.legend()\\nplt.show()'"
      ]
     },
     "execution_count": 29,
     "metadata": {},
     "output_type": "execute_result"
    }
   ],
   "source": [
    "'''original_scaled_data = scaler.inverse_transform(scaled_data)\n",
    "\n",
    "plt.figure(figsize=(15, 6))\n",
    "\n",
    "if original_scaled_data.shape[1] == 1:\n",
    "    plt.plot(original_scaled_data[:, 0], color='black', label=f\"Actual price\")\n",
    "else:\n",
    "    plt.plot(original_scaled_data[:, 3], color='black', label=f\"Actual price\")\n",
    "\n",
    "plt.plot(trainPredictPlot, color='red', label=f\"Predicted apple price (train set)\")\n",
    "plt.plot(testPredictPlot, color='blue', label=f\"Predicted apple price (test set)\")\n",
    "\n",
    "plt.title(\"apple Share Price\")\n",
    "plt.xlabel(\"Time\")\n",
    "plt.ylabel(\"apple Share Price\")\n",
    "plt.legend()\n",
    "plt.show()'''"
   ]
  },
  {
   "cell_type": "code",
   "execution_count": 30,
   "id": "76631815",
   "metadata": {
    "execution": {
     "iopub.execute_input": "2024-10-07T11:44:32.799126Z",
     "iopub.status.busy": "2024-10-07T11:44:32.798553Z",
     "iopub.status.idle": "2024-10-07T11:44:32.805512Z",
     "shell.execute_reply": "2024-10-07T11:44:32.804251Z"
    },
    "papermill": {
     "duration": 0.533473,
     "end_time": "2024-10-07T11:44:32.808600",
     "exception": false,
     "start_time": "2024-10-07T11:44:32.275127",
     "status": "completed"
    },
    "tags": []
   },
   "outputs": [],
   "source": [
    "original_scaled_data = scaler.inverse_transform(scaled_data)"
   ]
  },
  {
   "cell_type": "code",
   "execution_count": 31,
   "id": "40208f26",
   "metadata": {
    "execution": {
     "iopub.execute_input": "2024-10-07T11:44:33.909669Z",
     "iopub.status.busy": "2024-10-07T11:44:33.909216Z",
     "iopub.status.idle": "2024-10-07T11:44:34.369204Z",
     "shell.execute_reply": "2024-10-07T11:44:34.367919Z"
    },
    "papermill": {
     "duration": 1.035246,
     "end_time": "2024-10-07T11:44:34.371899",
     "exception": false,
     "start_time": "2024-10-07T11:44:33.336653",
     "status": "completed"
    },
    "tags": []
   },
   "outputs": [
    {
     "data": {
      "image/png": "[encoded data removed]",
      "text/plain": [
       "<Figure size 1500x600 with 1 Axes>"
      ]
     },
     "metadata": {},
     "output_type": "display_data"
    }
   ],
   "source": [
    "look_back = 60\n",
    "trainPredictPlot = np.empty((len(original_scaled_data), 1))\n",
    "trainPredictPlot[:] = np.nan\n",
    "\n",
    "trainPredictPlot[look_back:look_back + len(train_predict)] = train_predict.reshape(-1, 1)\n",
    "\n",
    "testPredictPlot = np.empty((len(original_scaled_data), 1))\n",
    "testPredictPlot[:] = np.nan\n",
    "\n",
    "test_start = len(original_scaled_data) - len(test_predict)\n",
    "testPredictPlot[test_start:] = test_predict.reshape(-1, 1)\n",
    "\n",
    "\n",
    "plt.figure(figsize=(15, 6))\n",
    "\n",
    "if original_scaled_data.shape[1] == 1:\n",
    "    plt.plot(original_scaled_data[:, 0], color='black', label=\"Actual price\")\n",
    "else:\n",
    "    plt.plot(original_scaled_data[:, 3], color='black', label=\"Actual price\")\n",
    "\n",
    "plt.plot(trainPredictPlot, color='red', label=\"Predicted apple price (train set)\")\n",
    "plt.plot(testPredictPlot, color='blue', label=\"Predicted apple price (test set)\")\n",
    "\n",
    "plt.title(\"Apple Share Price\")\n",
    "plt.xlabel(\"Time\")\n",
    "plt.ylabel(\"Apple Share Price\")\n",
    "plt.legend()\n",
    "# Save the figure before displaying\n",
    "plt.savefig(\"apple share price.png\", dpi=300, bbox_inches='tight')\n",
    "plt.show()"
   ]
  },
  {
   "cell_type": "code",
   "execution_count": null,
   "id": "63cccc5a",
   "metadata": {
    "papermill": {
     "duration": 0.521047,
     "end_time": "2024-10-07T11:44:35.413523",
     "exception": false,
     "start_time": "2024-10-07T11:44:34.892476",
     "status": "completed"
    },
    "tags": []
   },
   "outputs": [],
   "source": []
  }
 ],
 "metadata": {
  "kaggle": {
   "accelerator": "none",
   "dataSources": [
    {
     "datasetId": 541298,
     "sourceId": 1054465,
     "sourceType": "datasetVersion"
    }
   ],
   "dockerImageVersionId": 30786,
   "isGpuEnabled": false,
   "isInternetEnabled": true,
   "language": "python",
   "sourceType": "notebook"
  },
  "kernelspec": {
   "display_name": "Python 3",
   "language": "python",
   "name": "python3"
  },
  "language_info": {
   "codemirror_mode": {
    "name": "ipython",
    "version": 3
   },
   "file_extension": ".py",
   "mimetype": "text/x-python",
   "name": "python",
   "nbconvert_exporter": "python",
   "pygments_lexer": "ipython3",
   "version": "3.11.0"
  },
  "papermill": {
   "default_parameters": {},
   "duration": 535.682284,
   "end_time": "2024-10-07T11:44:37.756561",
   "environment_variables": {},
   "exception": null,
   "input_path": "__notebook__.ipynb",
   "output_path": "__notebook__.ipynb",
   "parameters": {},
   "start_time": "2024-10-07T11:35:42.074277",
   "version": "2.6.0"
  }
 },
 "nbformat": 4,
 "nbformat_minor": 5
}
